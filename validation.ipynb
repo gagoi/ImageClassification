{
 "cells": [
  {
   "cell_type": "markdown",
   "id": "addressed-aruba",
   "metadata": {},
   "source": [
    "# Validation\n",
    "\n",
    "Ce notebook est le notebook de validation. Son premier argument est le chemin du répertoire où se trouvent les images et le second argument est le nom du fichier csv de sortie (par défaut results.csv)"
   ]
  },
  {
   "cell_type": "markdown",
   "id": "suspected-registration",
   "metadata": {},
   "source": [
    "# Imports"
   ]
  },
  {
   "cell_type": "code",
   "execution_count": 9,
   "id": "binary-bridal",
   "metadata": {},
   "outputs": [
    {
     "name": "stdout",
     "output_type": "stream",
     "text": [
      "2.4.1\n"
     ]
    }
   ],
   "source": [
    "from keras.models import load_model\n",
    "from PIL import Image\n",
    "import tensorflow\n",
    "from tensorflow import keras\n",
    "from tensorflow.keras.preprocessing import image\n",
    "import os\n",
    "import sys\n",
    "\n",
    "print(tensorflow.version.VERSION)"
   ]
  },
  {
   "cell_type": "markdown",
   "id": "passing-comedy",
   "metadata": {},
   "source": [
    "# Chargement des arguments\n",
    "\n",
    "Le chemin du répertoire est contenu dans le premier argument et le nom du csv est dans le second argument. Il y a des valeurs par défaut si ces arguments ne sont pas renseignés : `./images/test` pour le répertoire d'images, `results.csv` pour le fichier de résultats."
   ]
  },
  {
   "cell_type": "code",
   "execution_count": 10,
   "id": "resident-concentration",
   "metadata": {
    "scrolled": true
   },
   "outputs": [
    {
     "name": "stdout",
     "output_type": "stream",
     "text": [
      "Directory path : -f\n",
      "Name of the output file : C:\\Users\\franc\\AppData\\Roaming\\jupyter\\runtime\\kernel-d3cf9a8c-3372-46d7-b333-f821939406b6.json\n"
     ]
    }
   ],
   "source": [
    "args = sys.argv\n",
    "if len(args) > 1:\n",
    "    dir_path = args[1]\n",
    "else:\n",
    "    dir_path = \"./images/test\"\n",
    "print(\"Directory path : \" + dir_path)\n",
    "\n",
    "if len(args) > 2:\n",
    "    name_csv_file = args[2]\n",
    "else:\n",
    "    name_csv_file = \"results.csv\"\n",
    "print(\"Name of the output file : \" + name_csv_file)"
   ]
  },
  {
   "cell_type": "markdown",
   "id": "electrical-healing",
   "metadata": {},
   "source": [
    "# Chargement du modèle\n",
    "\n",
    "Le modèle est déjà entièrement prêt à l'intérieur du fichier au format H5, il nous suffit donc de le charger."
   ]
  },
  {
   "cell_type": "code",
   "execution_count": 11,
   "id": "judicial-singles",
   "metadata": {},
   "outputs": [],
   "source": [
    "model = keras.models.load_model(\"pouly_zangla_classifier.h5\")"
   ]
  },
  {
   "cell_type": "markdown",
   "id": "planned-convention",
   "metadata": {},
   "source": [
    "#  Chargement des images et prédiction\n",
    "\n",
    "Le fichier est ouvert, les images sont chargées et on lance la prédiction. Les résultats sont ensuite écrits sur le fichier csv."
   ]
  },
  {
   "cell_type": "code",
   "execution_count": 13,
   "id": "binary-bacteria",
   "metadata": {},
   "outputs": [],
   "source": [
    "def load(filename):\n",
    "    np_image = Image.open(filename)\n",
    "    np_image = image.img_to_array(np_image)\n",
    "    np_image = np.expand_dims(np_image, axis = 0)\n",
    "    return np_image\n",
    "\n",
    "with open(name_csv_file, 'w') as f:\n",
    "    f.truncate(0)\n",
    "    print('image_name,relative_path,class_label', file=f)\n",
    "    for img in os.listdir(dir_path):\n",
    "        im = Image.open(dir_path + \"/\" + img)\n",
    "        prediction = model.predict(load(dir_path + \"/\" + img))\n",
    "        prediction = np.argmax(prediction, axis = 1)[0]\n",
    "        print(img + \",\" + dir_path + \"/\" + img + \",\" + str(prediction), file=f)"
   ]
  },
  {
   "cell_type": "markdown",
   "id": "addressed-champagne",
   "metadata": {},
   "source": [
    "# Utilisation de la validation\n",
    "\n",
    "Pour tester notre modèle, nous avons téléchargé toutes les images de la catégorie \"basket\" disponibles (toutes les images sont disponibles [ici](https://console.cloud.google.com/storage/browser/quickdraw_dataset/full/numpy_bitmap;tab=objects?pli=1&prefix=&forceOnObjectsSortingFiltering=false)).\n",
    "\n",
    "Après les avoir téléchargées, nous les avons lues et envoyées dans un répertoire, puis nous avons lancé ce notebook en lui donnant en argument le répertoire contenant environ 118 000 images. Nous avons obtenu 95,4% de bons classements avec ces données, dont beaucoup étaient différentes des données d'apprentissage."
   ]
  }
 ],
 "metadata": {
  "kernelspec": {
   "display_name": "DLVirtualEnv",
   "language": "python",
   "name": "dlvirtualenv"
  },
  "language_info": {
   "codemirror_mode": {
    "name": "ipython",
    "version": 3
   },
   "file_extension": ".py",
   "mimetype": "text/x-python",
   "name": "python",
   "nbconvert_exporter": "python",
   "pygments_lexer": "ipython3",
   "version": "3.8.7"
  }
 },
 "nbformat": 4,
 "nbformat_minor": 5
}
