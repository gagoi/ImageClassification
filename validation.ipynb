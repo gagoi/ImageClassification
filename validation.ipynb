{
 "cells": [
  {
   "cell_type": "code",
   "execution_count": 15,
   "id": "binary-bridal",
   "metadata": {},
   "outputs": [],
   "source": [
    "import pandas as pd\n",
    "import tensorflow as tf\n",
    "from tensorflow import keras\n",
    "from tensorflow.keras.preprocessing.image import ImageDataGenerator\n",
    "from tensorflow.keras.preprocessing import image"
   ]
  },
  {
   "cell_type": "code",
   "execution_count": 16,
   "id": "resident-concentration",
   "metadata": {
    "scrolled": true
   },
   "outputs": [
    {
     "name": "stdout",
     "output_type": "stream",
     "text": [
      "              image_name             relative_path class_label\n",
      "0      basket_091236.png  basket/basket_091236.png           0\n",
      "1      basket_111908.png  basket/basket_111908.png           0\n",
      "2      basket_088296.png  basket/basket_088296.png           0\n",
      "3      basket_040763.png  basket/basket_040763.png           0\n",
      "4      basket_010714.png  basket/basket_010714.png           0\n",
      "...                  ...                       ...         ...\n",
      "24995    hand_125273.png      hand/hand_125273.png           4\n",
      "24996    hand_133214.png      hand/hand_133214.png           4\n",
      "24997    hand_112700.png      hand/hand_112700.png           4\n",
      "24998    hand_219816.png      hand/hand_219816.png           4\n",
      "24999    hand_145171.png      hand/hand_145171.png           4\n",
      "\n",
      "[25000 rows x 3 columns]\n"
     ]
    }
   ],
   "source": [
    "validData = pd.read_csv('valid.csv', dtype=\"str\")\n",
    "print(validData)"
   ]
  },
  {
   "cell_type": "code",
   "execution_count": 17,
   "id": "infinite-supply",
   "metadata": {},
   "outputs": [],
   "source": [
    "imageGenerator = ImageDataGenerator(\n",
    "    validation_split=0\n",
    ")"
   ]
  },
  {
   "cell_type": "code",
   "execution_count": 18,
   "id": "apart-coral",
   "metadata": {},
   "outputs": [
    {
     "name": "stdout",
     "output_type": "stream",
     "text": [
      "Found 25000 non-validated image filenames belonging to 5 classes.\n"
     ]
    }
   ],
   "source": [
    "validation_images = imageGenerator.flow_from_dataframe(\n",
    "    dataframe=validData, # Données provenant de pandas pour la validation\n",
    "    directory=\"images\",\n",
    "    x_col=\"relative_path\",\n",
    "    y_col=\"class_label\",\n",
    "    class_mode=\"categorical\",\n",
    "    target_size=(28,28),\n",
    "    color_mode=\"grayscale\",\n",
    "    batch_size=750,\n",
    "    validate_filenames=False # Pas de vérification des fichiers pour gagner du temps\n",
    ")"
   ]
  },
  {
   "cell_type": "code",
   "execution_count": 19,
   "id": "judicial-singles",
   "metadata": {},
   "outputs": [],
   "source": [
    "model = keras.models.load_model(\"pouly_zangla_classifier.h5\")"
   ]
  },
  {
   "cell_type": "code",
   "execution_count": 20,
   "id": "binary-bacteria",
   "metadata": {},
   "outputs": [
    {
     "name": "stdout",
     "output_type": "stream",
     "text": [
      "WARNING:tensorflow:Model was constructed with shape (None, 28, 28) for input KerasTensor(type_spec=TensorSpec(shape=(None, 28, 28), dtype=tf.float32, name='input_1'), name='input_1', description=\"created by layer 'input_1'\"), but it was called on an input with incompatible shape (None, None, None, None).\n",
      "34/34 [==============================] - 12s 356ms/step - loss: 0.2911 - categorical_accuracy: 0.9118\n"
     ]
    },
    {
     "data": {
      "text/plain": [
       "[0.29112309217453003, 0.91184002161026]"
      ]
     },
     "execution_count": 20,
     "metadata": {},
     "output_type": "execute_result"
    }
   ],
   "source": [
    "model.evaluate(validation_images)"
   ]
  }
 ],
 "metadata": {
  "kernelspec": {
   "display_name": "DLVirtualEnv",
   "language": "python",
   "name": "dlvirtualenv"
  },
  "language_info": {
   "codemirror_mode": {
    "name": "ipython",
    "version": 3
   },
   "file_extension": ".py",
   "mimetype": "text/x-python",
   "name": "python",
   "nbconvert_exporter": "python",
   "pygments_lexer": "ipython3",
   "version": "3.8.7"
  }
 },
 "nbformat": 4,
 "nbformat_minor": 5
}
