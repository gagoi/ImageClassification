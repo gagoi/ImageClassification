{
 "cells": [
  {
   "cell_type": "markdown",
   "metadata": {},
   "source": [
    "# Challenge Deep Learning"
   ]
  },
  {
   "cell_type": "markdown",
   "metadata": {},
   "source": [
    "L'objectif de ce challenge est de proposer une méthode de classification, basée sur des réseaux de neurones, permettant de classer des images issues de Google Quickdraw (https://quickdraw.withgoogle.com/data).\n",
    "Le jeu de données proposé comprend 5 classes balancées, avec 15000 exemples d'apprentissage et 5000 exemples de validation : des paniers, des yeux, des lunettes, des lapins et des mains.\n",
    "\n",
    "Vous pouvez utiliser tout algorithme qui vous semble pertinent (PMC, CNN,), en faisant varier les données d'entrée (normalisation, augmentation de données,...), les paramètres des réseaux considérés (fonction objectif, optimiseur, dropout, learning rate, taille des batchs...)\n",
    "\n",
    "Bien sûr, pour valider votre travail, nous ferons tourner le code en local, sur la base originale que nous conservons, pour voir si les résultats que vous proposez sont reproductibles. \n",
    "\n",
    "Le compte-rendu sera effectué sur un notebook jupyter, dans lequel vous reporterez votre méthodologie en markdown, et vos codes en Python. Vous expliquerez votre démarche, justifierez vos choix, commenterez vos expérimentations et vos résultats.\n",
    "\n",
    "La notation sera construite de la manière suivante : \n",
    "- 12 points sur le compte-rendu\n",
    "- 8 points seront accordés sur un classement par le taux de reconnsaissance des objets de la base de test. Les binômes seront classés par taux de reconnaissance décroissant, les premiers ayant 8 points accordés, les autres binômes ayant une note suivant une décroissance linéaire.\n",
    "\n",
    "Le notebook sera déposé sur la plateforme moodle du cours."
   ]
  },
  {
   "cell_type": "markdown",
   "metadata": {},
   "source": [
    "## Imports"
   ]
  },
  {
   "cell_type": "code",
   "execution_count": 1,
   "metadata": {},
   "outputs": [
    {
     "name": "stdout",
     "output_type": "stream",
     "text": [
      "2.4.1\n"
     ]
    }
   ],
   "source": [
    "import tensorflow\n",
    "import os\n",
    "import pandas as pd\n",
    "import numpy as np\n",
    "from PIL import Image\n",
    "from tensorflow import keras\n",
    "from tensorflow.keras.preprocessing.image import ImageDataGenerator\n",
    "from tensorflow.keras.preprocessing import image\n",
    "import matplotlib.pyplot as plt\n",
    "%matplotlib inline\n",
    "\n",
    "print(tensorflow.version.VERSION)\n",
    "# Ajouter les imports nécessaires"
   ]
  },
  {
   "cell_type": "markdown",
   "metadata": {},
   "source": [
    "## Chargement des données pour l'entraînement\n",
    "\n",
    "On utilise le module `pandas`, il facilite grandement le chargement de fichier CSV, en les lisant sous forme de matrices appelées **Dataframes**.\n",
    "\n",
    "L'utilisation du paramètre `dtype` est obligatoire pour indiquer à `pandas` de charger le contenu des cases sous la forme de chaînes de caractères. Cela évite une transformation pour obtenir les étiquettes des classes qui doivent obligatoirement être de ce type là."
   ]
  },
  {
   "cell_type": "code",
   "execution_count": 2,
   "metadata": {},
   "outputs": [
    {
     "name": "stdout",
     "output_type": "stream",
     "text": [
      "              image_name             relative_path class_label\n",
      "0      basket_052681.png  basket/basket_052681.png           0\n",
      "1      basket_028248.png  basket/basket_028248.png           0\n",
      "2      basket_050738.png  basket/basket_050738.png           0\n",
      "3      basket_034414.png  basket/basket_034414.png           0\n",
      "4      basket_091738.png  basket/basket_091738.png           0\n",
      "...                  ...                       ...         ...\n",
      "74995    hand_241467.png      hand/hand_241467.png           4\n",
      "74996    hand_052619.png      hand/hand_052619.png           4\n",
      "74997    hand_168727.png      hand/hand_168727.png           4\n",
      "74998    hand_285523.png      hand/hand_285523.png           4\n",
      "74999    hand_263562.png      hand/hand_263562.png           4\n",
      "\n",
      "[75000 rows x 3 columns]\n"
     ]
    }
   ],
   "source": [
    "trainData = pd.read_csv(\"train.csv\", dtype=\"str\")\n",
    "validData = pd.read_csv('valid.csv', dtype=\"str\")\n",
    "print(trainData)"
   ]
  },
  {
   "cell_type": "markdown",
   "metadata": {},
   "source": [
    "## Génération de données\n",
    "\n",
    "Nous utilisons l'outil de génération de données `ImageDataGenerator`pour faciliter la manipulation du Dataframe.\n",
    "Comme les données de validation sont stockées dans un second fichier, il n'est pas nécessaire d'utiliser un `validation_split`."
   ]
  },
  {
   "cell_type": "code",
   "execution_count": 3,
   "metadata": {},
   "outputs": [],
   "source": [
    "trainImageGenerator = ImageDataGenerator(\n",
    "    validation_split=0\n",
    ")"
   ]
  },
  {
   "cell_type": "markdown",
   "metadata": {},
   "source": [
    "## Modèle\n",
    "\n",
    "Selu est légèrement meilleur que Relu dans notre cas. Sigmoid ne fonctionne pas du tout.\n",
    "### InputLayer\n",
    "Sa dimension correspond à la résolution des images utilisées.\n",
    "\n",
    "### Reshape\n",
    "On modifie la dimension pour convertir toutes les images qui étaient en couleur en niveau de gris.\n",
    "\n",
    "### Conv2D\n",
    "On réduit la taille du layer en moyennant les pixels d'un carré 3x3.\n",
    "\n",
    "### MaxPooling2D\n",
    "Sous-échantillonage en ne conservant que la valeur maximum des sous-matrices (2x2).  Une taille de sous-matrice plus importante entraînerait une trop grosse perte d'informations.\n",
    "\n",
    "### Dropout\n",
    "Cette couche permet d'introduire de l'aléatoire dans le modèle pour le faire évoluer. On ignore certains neurones pour pouvoir introduire des variations de résultats. Ici *25%* des neurones sont abandonnés. \n",
    "\n",
    "## Flatten\n",
    "Permet de changer la dimension pour atteindre une dimension.\n",
    "\n",
    "### Dense\n",
    "Sa dimension est (5), car notre modèle détermine une classe parmis 5 disponibles.\n",
    "On utilise la fonction `softmax` car nous souhaitons sélectionner une seule classe parmis celles disponnibles. On séléctionne celle avec la plus grande probabilité."
   ]
  },
  {
   "cell_type": "code",
   "execution_count": 4,
   "metadata": {},
   "outputs": [
    {
     "data": {
      "text/plain": [
       "\"\\nmodel = keras.Sequential(\\n    [\\n        keras.layers.InputLayer(input_shape=(28, 28)), # Résolution des images\\n        keras.layers.Reshape((28, 28, 1)),\\n        keras.layers.Conv2D(filters=60, kernel_size=(5, 5), activation='relu'),\\n        keras.layers.MaxPooling2D(pool_size=(2, 2)),\\n        \\n        keras.layers.Conv2D(filters=30, kernel_size=(3, 3), activation='relu'),\\n        keras.layers.MaxPooling2D(pool_size=(2, 2)),\\n        keras.layers.Dropout(0.2),\\n        \\n        keras.layers.Flatten(),\\n        keras.layers.Dense(128, activation='relu'),\\n        keras.layers.Dense(5, activation='softmax')\\n    ]\\n)\\n\""
      ]
     },
     "execution_count": 4,
     "metadata": {},
     "output_type": "execute_result"
    }
   ],
   "source": [
    "model = keras.Sequential(\n",
    "    [\n",
    "        keras.layers.InputLayer(input_shape=(28, 28)), # Résolution des images\n",
    "        keras.layers.Reshape((28, 28, 1)),\n",
    "        keras.layers.Conv2D(filters=32, kernel_size=(3, 3), activation='selu'),\n",
    "        keras.layers.MaxPooling2D(pool_size=(2, 2)),\n",
    "        keras.layers.Dropout(0.2),\n",
    "        \n",
    "        keras.layers.Conv2D(filters=64, kernel_size=(3, 3), activation='selu'),\n",
    "        keras.layers.MaxPooling2D(pool_size=(2, 2)),\n",
    "        keras.layers.Dropout(0.2),\n",
    "        \n",
    "        keras.layers.Flatten(),\n",
    "        keras.layers.Dense(126, activation='relu'),\n",
    "        keras.layers.Dropout(0.25),\n",
    "        \n",
    "        \n",
    "        keras.layers.Dense(5, activation='softmax')\n",
    "    ]\n",
    ")"
   ]
  },
  {
   "cell_type": "markdown",
   "metadata": {},
   "source": [
    "## Compilation du modèle\n",
    "\n",
    "### Optimizer\n",
    "Pour séléctionner la fonction d'optimisation, nous avons décidé de bloquer les autres paramètres de la simulation, et de conserver la fonction qui obtient les meilleurs résultats en 10 epochs.\n",
    "\n",
    "| Fonction | Validation accuracy (approx.) |\n",
    "| --- | --- |\n",
    "| SGD | 92% |\n",
    "| Adam | 92% |\n",
    "| Adagrad | 93% |\n",
    "| Ftrl | 89% |\n",
    "| RMSprop | 91% |\n",
    "| Adadelta | 61% |\n",
    "| Nadam | 92% |\n",
    "\n",
    "Nous avons donc décidé de converver le `Adam`."
   ]
  },
  {
   "cell_type": "code",
   "execution_count": 5,
   "metadata": {},
   "outputs": [
    {
     "name": "stdout",
     "output_type": "stream",
     "text": [
      "Model: \"sequential\"\n",
      "_________________________________________________________________\n",
      "Layer (type)                 Output Shape              Param #   \n",
      "=================================================================\n",
      "reshape (Reshape)            (None, 28, 28, 1)         0         \n",
      "_________________________________________________________________\n",
      "conv2d (Conv2D)              (None, 26, 26, 32)        320       \n",
      "_________________________________________________________________\n",
      "max_pooling2d (MaxPooling2D) (None, 13, 13, 32)        0         \n",
      "_________________________________________________________________\n",
      "dropout (Dropout)            (None, 13, 13, 32)        0         \n",
      "_________________________________________________________________\n",
      "conv2d_1 (Conv2D)            (None, 11, 11, 64)        18496     \n",
      "_________________________________________________________________\n",
      "max_pooling2d_1 (MaxPooling2 (None, 5, 5, 64)          0         \n",
      "_________________________________________________________________\n",
      "dropout_1 (Dropout)          (None, 5, 5, 64)          0         \n",
      "_________________________________________________________________\n",
      "flatten (Flatten)            (None, 1600)              0         \n",
      "_________________________________________________________________\n",
      "dense (Dense)                (None, 126)               201726    \n",
      "_________________________________________________________________\n",
      "dropout_2 (Dropout)          (None, 126)               0         \n",
      "_________________________________________________________________\n",
      "dense_1 (Dense)              (None, 5)                 635       \n",
      "=================================================================\n",
      "Total params: 221,177\n",
      "Trainable params: 221,177\n",
      "Non-trainable params: 0\n",
      "_________________________________________________________________\n",
      "None\n"
     ]
    }
   ],
   "source": [
    "model.compile(optimizer='adam', loss=\"categorical_crossentropy\", metrics=['categorical_accuracy'])\n",
    "print(model.summary())"
   ]
  },
  {
   "cell_type": "markdown",
   "metadata": {},
   "source": [
    "## Répartition des données"
   ]
  },
  {
   "cell_type": "code",
   "execution_count": 6,
   "metadata": {},
   "outputs": [
    {
     "name": "stdout",
     "output_type": "stream",
     "text": [
      "Found 75000 non-validated image filenames belonging to 5 classes.\n",
      "Found 25000 non-validated image filenames belonging to 5 classes.\n"
     ]
    }
   ],
   "source": [
    "# Images utilisées pour l'entrainement\n",
    "train_images = trainImageGenerator.flow_from_dataframe(\n",
    "    dataframe=trainData, # Données provenant de pandas pour l'entrainement\n",
    "    directory=\"images\", # Dossier racine des images\n",
    "    x_col=\"relative_path\", # Chemin d'acces des images\n",
    "    y_col=\"class_label\", # Nom des classes \n",
    "    class_mode=\"categorical\", # Type de classification : \n",
    "    target_size=(28,28),\n",
    "    color_mode=\"grayscale\",\n",
    "    batch_size=100,\n",
    "    validate_filenames=False, # Pas de vérification des fichiers pour gagner du temps\n",
    "    shuffle=True, # En rendant aléatoire les données on augmente les chances d'avoir un lancement meilleur\n",
    "    horizontal_flip=True\n",
    ")\n",
    "\n",
    "# Images utilisées pour la validation\n",
    "validation_images = trainImageGenerator.flow_from_dataframe(\n",
    "    dataframe=validData, # Données provenant de pandas pour la validation\n",
    "    directory=\"images\",\n",
    "    x_col=\"relative_path\",\n",
    "    y_col=\"class_label\",\n",
    "    class_mode=\"categorical\",\n",
    "    target_size=(28,28),\n",
    "    color_mode=\"grayscale\",\n",
    "    batch_size=100,\n",
    "    validate_filenames=False # Pas de vérification des fichiers pour gagner du temps\n",
    ")"
   ]
  },
  {
   "cell_type": "markdown",
   "metadata": {},
   "source": [
    "## Entrainement du modèle\n",
    "\n",
    "Pour entraîner le modèle, nous utilisons les images provenant du fichier d'entrainement. Et nous utilisons celle de l'autre fichier pour faire la validation de la progression.\n",
    "\n",
    "Nous avons choisis de faire seulement 5 epochs, au-delà la progression ne semble pas très élevée."
   ]
  },
  {
   "cell_type": "code",
   "execution_count": 7,
   "metadata": {
    "scrolled": true
   },
   "outputs": [
    {
     "name": "stdout",
     "output_type": "stream",
     "text": [
      "Epoch 1/30\n",
      "WARNING:tensorflow:Model was constructed with shape (None, 28, 28) for input KerasTensor(type_spec=TensorSpec(shape=(None, 28, 28), dtype=tf.float32, name='input_1'), name='input_1', description=\"created by layer 'input_1'\"), but it was called on an input with incompatible shape (None, None, None, None).\n",
      "WARNING:tensorflow:Model was constructed with shape (None, 28, 28) for input KerasTensor(type_spec=TensorSpec(shape=(None, 28, 28), dtype=tf.float32, name='input_1'), name='input_1', description=\"created by layer 'input_1'\"), but it was called on an input with incompatible shape (None, None, None, None).\n",
      "749/750 [============================>.] - ETA: 0s - loss: 5.9012 - categorical_accuracy: 0.5631WARNING:tensorflow:Model was constructed with shape (None, 28, 28) for input KerasTensor(type_spec=TensorSpec(shape=(None, 28, 28), dtype=tf.float32, name='input_1'), name='input_1', description=\"created by layer 'input_1'\"), but it was called on an input with incompatible shape (None, None, None, None).\n",
      "750/750 [==============================] - 21s 25ms/step - loss: 5.8901 - categorical_accuracy: 0.5634 - val_loss: 0.3748 - val_categorical_accuracy: 0.8840\n",
      "Epoch 2/30\n",
      "750/750 [==============================] - 18s 24ms/step - loss: 0.4733 - categorical_accuracy: 0.8437 - val_loss: 0.2671 - val_categorical_accuracy: 0.9102\n",
      "Epoch 3/30\n",
      "750/750 [==============================] - 19s 25ms/step - loss: 0.3662 - categorical_accuracy: 0.8797 - val_loss: 0.2364 - val_categorical_accuracy: 0.9244\n",
      "Epoch 4/30\n",
      "750/750 [==============================] - 19s 25ms/step - loss: 0.3043 - categorical_accuracy: 0.9001 - val_loss: 0.2053 - val_categorical_accuracy: 0.9311\n",
      "Epoch 5/30\n",
      "750/750 [==============================] - 19s 25ms/step - loss: 0.2614 - categorical_accuracy: 0.9142 - val_loss: 0.1907 - val_categorical_accuracy: 0.9356\n",
      "Epoch 6/30\n",
      "750/750 [==============================] - 18s 24ms/step - loss: 0.2385 - categorical_accuracy: 0.9209 - val_loss: 0.1839 - val_categorical_accuracy: 0.9382\n",
      "Epoch 7/30\n",
      "750/750 [==============================] - 18s 24ms/step - loss: 0.2223 - categorical_accuracy: 0.9262 - val_loss: 0.1850 - val_categorical_accuracy: 0.9412\n",
      "Epoch 8/30\n",
      "750/750 [==============================] - 18s 24ms/step - loss: 0.2090 - categorical_accuracy: 0.9310 - val_loss: 0.1755 - val_categorical_accuracy: 0.9423\n",
      "Epoch 9/30\n",
      "750/750 [==============================] - 19s 25ms/step - loss: 0.1942 - categorical_accuracy: 0.9367 - val_loss: 0.1866 - val_categorical_accuracy: 0.9430\n",
      "Epoch 10/30\n",
      "750/750 [==============================] - 18s 25ms/step - loss: 0.1845 - categorical_accuracy: 0.9365 - val_loss: 0.1704 - val_categorical_accuracy: 0.9453\n",
      "Epoch 11/30\n",
      "750/750 [==============================] - 18s 24ms/step - loss: 0.1786 - categorical_accuracy: 0.9390 - val_loss: 0.1695 - val_categorical_accuracy: 0.9474\n",
      "Epoch 12/30\n",
      "750/750 [==============================] - 18s 24ms/step - loss: 0.1746 - categorical_accuracy: 0.9412 - val_loss: 0.1684 - val_categorical_accuracy: 0.9459\n",
      "Epoch 13/30\n",
      "750/750 [==============================] - 18s 24ms/step - loss: 0.1627 - categorical_accuracy: 0.9446 - val_loss: 0.1656 - val_categorical_accuracy: 0.9467\n",
      "Epoch 14/30\n",
      "750/750 [==============================] - 18s 24ms/step - loss: 0.1560 - categorical_accuracy: 0.9469 - val_loss: 0.1698 - val_categorical_accuracy: 0.9473\n",
      "Epoch 15/30\n",
      "750/750 [==============================] - 18s 24ms/step - loss: 0.1529 - categorical_accuracy: 0.9491 - val_loss: 0.1786 - val_categorical_accuracy: 0.9477\n",
      "Epoch 16/30\n",
      "750/750 [==============================] - 18s 24ms/step - loss: 0.1504 - categorical_accuracy: 0.9485 - val_loss: 0.1679 - val_categorical_accuracy: 0.9482\n",
      "Epoch 17/30\n",
      "750/750 [==============================] - 18s 24ms/step - loss: 0.1442 - categorical_accuracy: 0.9514 - val_loss: 0.1701 - val_categorical_accuracy: 0.9480\n",
      "Epoch 18/30\n",
      "750/750 [==============================] - 18s 24ms/step - loss: 0.1454 - categorical_accuracy: 0.9501 - val_loss: 0.1676 - val_categorical_accuracy: 0.9500\n",
      "Epoch 19/30\n",
      "750/750 [==============================] - 18s 24ms/step - loss: 0.1475 - categorical_accuracy: 0.9501 - val_loss: 0.1772 - val_categorical_accuracy: 0.9490\n",
      "Epoch 20/30\n",
      "750/750 [==============================] - 18s 24ms/step - loss: 0.1338 - categorical_accuracy: 0.9528 - val_loss: 0.1798 - val_categorical_accuracy: 0.9476\n",
      "Epoch 21/30\n",
      "750/750 [==============================] - 18s 24ms/step - loss: 0.1385 - categorical_accuracy: 0.9536 - val_loss: 0.1637 - val_categorical_accuracy: 0.9496\n",
      "Epoch 22/30\n",
      "750/750 [==============================] - 18s 24ms/step - loss: 0.1372 - categorical_accuracy: 0.9524 - val_loss: 0.1910 - val_categorical_accuracy: 0.9486\n",
      "Epoch 23/30\n",
      "750/750 [==============================] - 18s 24ms/step - loss: 0.1281 - categorical_accuracy: 0.9562 - val_loss: 0.1626 - val_categorical_accuracy: 0.9508\n",
      "Epoch 24/30\n",
      "750/750 [==============================] - 19s 25ms/step - loss: 0.1274 - categorical_accuracy: 0.9566 - val_loss: 0.1701 - val_categorical_accuracy: 0.9510\n",
      "Epoch 25/30\n",
      "750/750 [==============================] - 22s 30ms/step - loss: 0.1250 - categorical_accuracy: 0.9580 - val_loss: 0.1753 - val_categorical_accuracy: 0.9505\n",
      "Epoch 26/30\n",
      "750/750 [==============================] - 17s 23ms/step - loss: 0.1281 - categorical_accuracy: 0.9556 - val_loss: 0.1775 - val_categorical_accuracy: 0.9507\n",
      "Epoch 27/30\n",
      "750/750 [==============================] - 19s 26ms/step - loss: 0.1319 - categorical_accuracy: 0.9560 - val_loss: 0.1790 - val_categorical_accuracy: 0.9498\n",
      "Epoch 28/30\n",
      "750/750 [==============================] - 19s 26ms/step - loss: 0.1224 - categorical_accuracy: 0.9582 - val_loss: 0.1718 - val_categorical_accuracy: 0.9505\n",
      "Epoch 29/30\n",
      "750/750 [==============================] - 19s 25ms/step - loss: 0.1261 - categorical_accuracy: 0.9573 - val_loss: 0.1741 - val_categorical_accuracy: 0.9505\n",
      "Epoch 30/30\n",
      "750/750 [==============================] - 19s 26ms/step - loss: 0.1215 - categorical_accuracy: 0.9592 - val_loss: 0.1675 - val_categorical_accuracy: 0.9500\n"
     ]
    }
   ],
   "source": [
    "history = model.fit(train_images, validation_data=validation_images, epochs=30, verbose=1)"
   ]
  },
  {
   "cell_type": "markdown",
   "metadata": {},
   "source": [
    "## Affichage des résultats"
   ]
  },
  {
   "cell_type": "code",
   "execution_count": 8,
   "metadata": {},
   "outputs": [
    {
     "data": {
      "text/plain": [
       "<matplotlib.legend.Legend at 0x1fa78304100>"
      ]
     },
     "execution_count": 8,
     "metadata": {},
     "output_type": "execute_result"
    },
    {
     "data": {
      "image/png": "[encoded data removed]",
      "text/plain": [
       "<Figure size 1080x216 with 2 Axes>"
      ]
     },
     "metadata": {
      "needs_background": "light"
     },
     "output_type": "display_data"
    }
   ],
   "source": [
    "fig, (ax1, ax2) = plt.subplots(1, 2, figsize=(15,3))\n",
    "fig.suptitle(\"Résultats de l'apprentissage\")\n",
    "ax1.plot(history.history['categorical_accuracy'])\n",
    "ax1.plot(history.history['val_categorical_accuracy'])\n",
    "ax1.legend(['categorical_accuracy', 'val_categorical_accuracy'])\n",
    "\n",
    "ax2.plot(history.history['loss'])\n",
    "ax2.plot(history.history['val_loss'])\n",
    "ax2.legend(['loss', 'val_loss'])"
   ]
  },
  {
   "cell_type": "markdown",
   "metadata": {},
   "source": [
    "# Sur-entrainement\n",
    "\n",
    "On remarque dans nos résultats que le modèle devient sur entrainé à partir d'une dizaine d'epoch. On décide donc de l'entrainer sur seulement 10 epochs, même si ses résultats semblent moins bon. "
   ]
  },
  {
   "cell_type": "code",
   "execution_count": 9,
   "metadata": {},
   "outputs": [
    {
     "name": "stdout",
     "output_type": "stream",
     "text": [
      "Epoch 1/10\n",
      "WARNING:tensorflow:Model was constructed with shape (None, 28, 28) for input KerasTensor(type_spec=TensorSpec(shape=(None, 28, 28), dtype=tf.float32, name='input_2'), name='input_2', description=\"created by layer 'input_2'\"), but it was called on an input with incompatible shape (None, None, None, None).\n",
      "WARNING:tensorflow:Model was constructed with shape (None, 28, 28) for input KerasTensor(type_spec=TensorSpec(shape=(None, 28, 28), dtype=tf.float32, name='input_2'), name='input_2', description=\"created by layer 'input_2'\"), but it was called on an input with incompatible shape (None, None, None, None).\n",
      "748/750 [============================>.] - ETA: 0s - loss: 4.0204 - categorical_accuracy: 0.6206WARNING:tensorflow:Model was constructed with shape (None, 28, 28) for input KerasTensor(type_spec=TensorSpec(shape=(None, 28, 28), dtype=tf.float32, name='input_2'), name='input_2', description=\"created by layer 'input_2'\"), but it was called on an input with incompatible shape (None, None, None, None).\n",
      "750/750 [==============================] - 19s 25ms/step - loss: 4.0095 - categorical_accuracy: 0.6211 - val_loss: 0.3273 - val_categorical_accuracy: 0.8913\n",
      "Epoch 2/10\n",
      "750/750 [==============================] - 18s 25ms/step - loss: 0.4089 - categorical_accuracy: 0.8637 - val_loss: 0.2572 - val_categorical_accuracy: 0.9162\n",
      "Epoch 3/10\n",
      "750/750 [==============================] - 18s 25ms/step - loss: 0.3259 - categorical_accuracy: 0.8913 - val_loss: 0.2234 - val_categorical_accuracy: 0.9249\n",
      "Epoch 4/10\n",
      "750/750 [==============================] - 18s 25ms/step - loss: 0.2720 - categorical_accuracy: 0.9111 - val_loss: 0.2058 - val_categorical_accuracy: 0.9335\n",
      "Epoch 5/10\n",
      "750/750 [==============================] - 18s 25ms/step - loss: 0.2452 - categorical_accuracy: 0.9164 - val_loss: 0.1961 - val_categorical_accuracy: 0.9363\n",
      "Epoch 6/10\n",
      "750/750 [==============================] - 18s 25ms/step - loss: 0.2208 - categorical_accuracy: 0.9266 - val_loss: 0.1809 - val_categorical_accuracy: 0.9393\n",
      "Epoch 7/10\n",
      "750/750 [==============================] - 19s 25ms/step - loss: 0.2106 - categorical_accuracy: 0.9287 - val_loss: 0.1903 - val_categorical_accuracy: 0.9384\n",
      "Epoch 8/10\n",
      "750/750 [==============================] - 19s 25ms/step - loss: 0.2020 - categorical_accuracy: 0.9306 - val_loss: 0.1824 - val_categorical_accuracy: 0.9398\n",
      "Epoch 9/10\n",
      "750/750 [==============================] - 18s 25ms/step - loss: 0.1921 - categorical_accuracy: 0.9348 - val_loss: 0.1697 - val_categorical_accuracy: 0.9425\n",
      "Epoch 10/10\n",
      "750/750 [==============================] - 19s 26ms/step - loss: 0.1828 - categorical_accuracy: 0.9370 - val_loss: 0.1916 - val_categorical_accuracy: 0.9409\n"
     ]
    }
   ],
   "source": [
    "model = keras.Sequential(\n",
    "    [\n",
    "        keras.layers.InputLayer(input_shape=(28, 28)), # Résolution des images\n",
    "        keras.layers.Reshape((28, 28, 1)),\n",
    "        keras.layers.Conv2D(filters=32, kernel_size=(3, 3), activation='selu'),\n",
    "        keras.layers.MaxPooling2D(pool_size=(2, 2)),\n",
    "        keras.layers.Dropout(0.2),\n",
    "        \n",
    "        keras.layers.Conv2D(filters=64, kernel_size=(3, 3), activation='selu'),\n",
    "        keras.layers.MaxPooling2D(pool_size=(2, 2)),\n",
    "        keras.layers.Dropout(0.2),\n",
    "        \n",
    "        keras.layers.Flatten(),\n",
    "        keras.layers.Dense(126, activation='relu'),\n",
    "        keras.layers.Dropout(0.25),\n",
    "        \n",
    "        \n",
    "        keras.layers.Dense(5, activation='softmax')\n",
    "    ]\n",
    ")\n",
    "\n",
    "model.compile(optimizer='adam', loss=\"categorical_crossentropy\", metrics=['categorical_accuracy'])\n",
    "history = model.fit(train_images, validation_data=validation_images, epochs=10)"
   ]
  },
  {
   "cell_type": "markdown",
   "metadata": {},
   "source": [
    "## Exemple de classification par le modèle\n",
    "\n",
    "Pour afficher quelques exemples nous allons réutiliser les données utilisées lors de la validation. On demande au modèle de prédire la classe des images, puis on extrait une partie de ces résultats. Enfin on affiche le résultat après l'avoir convertie en texte plus explicite."
   ]
  },
  {
   "cell_type": "code",
   "execution_count": 10,
   "metadata": {},
   "outputs": [
    {
     "data": {
      "image/png": "[encoded data removed]",
      "text/plain": [
       "<Figure size 1296x648 with 5 Axes>"
      ]
     },
     "metadata": {
      "needs_background": "light"
     },
     "output_type": "display_data"
    }
   ],
   "source": [
    "classes = [\"basket\", \"eye\", \"binoculars\", \"rabbit\", \"hand\"]\n",
    "\n",
    "def load(filename):\n",
    "    np_image = Image.open(filename)\n",
    "    np_image = image.img_to_array(np_image)\n",
    "    np_image = np.expand_dims(np_image, axis = 0)\n",
    "    return np_image\n",
    "\n",
    "plt.figure(figsize=(18,9))\n",
    "for i in range(0,5):\n",
    "    ax= plt.subplot(1, 5 ,i+1)\n",
    "    im = Image.open('images/'+classes[i]+'/'+ os.listdir(\"images/\"+classes[i])[0])\n",
    "    fig=ax.imshow(im, cmap='Greys_r')\n",
    "    prediction = model.predict(load('images/'+classes[i]+'/'+ os.listdir(\"images/\"+classes[i])[0]))\n",
    "    prediction = np.argmax(prediction, axis = 1)[0]\n",
    "    plt.title(classes[prediction])\n",
    "    fig.axes.get_xaxis().set_visible(False)\n",
    "    fig.axes.get_yaxis().set_visible(False)\n",
    "plt.show()    "
   ]
  },
  {
   "cell_type": "markdown",
   "metadata": {},
   "source": [
    "## Sauvegarde du modèle\n",
    "\n",
    "On utilise le format **HDF5** pour stocker le modèle, ce format est pratique car il permet de stocker l'architecture du modèle, les poids ainsi que les informations de compilation du modèle."
   ]
  },
  {
   "cell_type": "code",
   "execution_count": 11,
   "metadata": {},
   "outputs": [],
   "source": [
    "model.save(\"pouly_zangla_classifier.h5\")"
   ]
  },
  {
   "cell_type": "code",
   "execution_count": null,
   "metadata": {},
   "outputs": [],
   "source": []
  }
 ],
 "metadata": {
  "kernelspec": {
   "display_name": "Python 3",
   "language": "python",
   "name": "python3"
  },
  "language_info": {
   "codemirror_mode": {
    "name": "ipython",
    "version": 3
   },
   "file_extension": ".py",
   "mimetype": "text/x-python",
   "name": "python",
   "nbconvert_exporter": "python",
   "pygments_lexer": "ipython3",
   "version": "3.8.7"
  }
 },
 "nbformat": 4,
 "nbformat_minor": 4
}
