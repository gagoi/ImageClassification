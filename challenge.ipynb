{
 "cells": [
  {
   "cell_type": "markdown",
   "metadata": {},
   "source": [
    "# Challenge Deep Learning"
   ]
  },
  {
   "cell_type": "markdown",
   "metadata": {},
   "source": [
    "## Imports"
   ]
  },
  {
   "cell_type": "code",
   "execution_count": 14,
   "metadata": {},
   "outputs": [],
   "source": [
    "import tensorflow\n",
    "import os\n",
    "import pandas as pd\n",
    "import numpy as np\n",
    "from PIL import Image\n",
    "from tensorflow import keras\n",
    "from tensorflow.keras.preprocessing.image import ImageDataGenerator\n",
    "from tensorflow.keras.preprocessing import image\n",
    "import matplotlib.pyplot as plt\n",
    "%matplotlib inline"
   ]
  },
  {
   "cell_type": "markdown",
   "metadata": {},
   "source": [
    "## Chargement des données pour l'entraînement\n",
    "\n",
    "On utilise le module `pandas`, il facilite grandement le chargement de fichier CSV, en les lisant sous forme de matrices appelées **Dataframes**.\n",
    "\n",
    "L'utilisation du paramètre `dtype` est obligatoire pour indiquer à `pandas` de charger le contenu des cases sous la forme de chaînes de caractères. Cela évite une transformation pour obtenir les étiquettes des classes qui doivent obligatoirement être de ce type là."
   ]
  },
  {
   "cell_type": "code",
   "execution_count": 15,
   "metadata": {},
   "outputs": [
    {
     "name": "stdout",
     "output_type": "stream",
     "text": [
      "              image_name             relative_path class_label\n",
      "0      basket_052681.png  basket/basket_052681.png           0\n",
      "1      basket_028248.png  basket/basket_028248.png           0\n",
      "2      basket_050738.png  basket/basket_050738.png           0\n",
      "3      basket_034414.png  basket/basket_034414.png           0\n",
      "4      basket_091738.png  basket/basket_091738.png           0\n",
      "...                  ...                       ...         ...\n",
      "74995    hand_241467.png      hand/hand_241467.png           4\n",
      "74996    hand_052619.png      hand/hand_052619.png           4\n",
      "74997    hand_168727.png      hand/hand_168727.png           4\n",
      "74998    hand_285523.png      hand/hand_285523.png           4\n",
      "74999    hand_263562.png      hand/hand_263562.png           4\n",
      "\n",
      "[75000 rows x 3 columns]\n"
     ]
    }
   ],
   "source": [
    "trainData = pd.read_csv(\"train.csv\", dtype=\"str\")\n",
    "validData = pd.read_csv('valid.csv', dtype=\"str\")\n",
    "print(trainData)"
   ]
  },
  {
   "cell_type": "markdown",
   "metadata": {},
   "source": [
    "## Génération de données\n",
    "\n",
    "Nous utilisons l'outil de génération de données `ImageDataGenerator`pour faciliter la manipulation du Dataframe.\n",
    "Comme les données de validation sont stockées dans un second fichier, il n'est pas nécessaire d'utiliser un `validation_split`."
   ]
  },
  {
   "cell_type": "code",
   "execution_count": 16,
   "metadata": {},
   "outputs": [],
   "source": [
    "trainImageGenerator = ImageDataGenerator(\n",
    "    validation_split=0\n",
    ")"
   ]
  },
  {
   "cell_type": "markdown",
   "metadata": {},
   "source": [
    "## Modèle\n",
    "\n",
    "Selu est légèrement meilleur que Relu dans notre cas. Sigmoid ne fonctionne pas du tout.\n",
    "### InputLayer\n",
    "Sa dimension correspond à la résolution des images utilisées.\n",
    "\n",
    "### Reshape\n",
    "On modifie la dimension pour convertir toutes les images qui étaient en couleur en niveau de gris.\n",
    "\n",
    "### Conv2D\n",
    "On réduit la taille du layer en moyennant les pixels d'un carré 3x3.\n",
    "\n",
    "### MaxPooling2D\n",
    "Sous-échantillonage en ne conservant que la valeur maximum des sous-matrices (2x2).  Une taille de sous-matrice plus importante entraînerait une trop grosse perte d'informations.\n",
    "\n",
    "### Dropout\n",
    "Cette couche permet d'introduire de l'aléatoire dans le modèle pour le faire évoluer. On ignore certains neurones pour pouvoir introduire des variations de résultats. Ici *25%* des neurones sont abandonnés. \n",
    "\n",
    "### Flatten\n",
    "Permet de changer la dimension pour atteindre une dimension.\n",
    "\n",
    "### Dense\n",
    "Sa dimension est (5), car notre modèle détermine une classe parmis 5 disponibles.\n",
    "On utilise la fonction `softmax` car nous souhaitons sélectionner une seule classe parmis celles disponnibles. On séléctionne celle avec la plus grande probabilité.\n",
    "\n",
    "## Choix des couches\n",
    "\n",
    "Nous sommens parti d'un simple CNN comme vu en TP qui obtenait des résultats de l'ordre de 92% de réussite. En prenant comme modèle le fonctionnement de VGG16, nous avons décidé d'ajouté un CNN supplémentaire. Nous avons ensuite essayer différentes configurations pour les paramètres afin d'obtenir les meilleurs résultats possibles.\n",
    "\n",
    "### Problème de sur-entraînement\n",
    "\n",
    "Comme nous avions peur du sur-entrainement du modèle, nous avons décidé de ne pas chercher à trop améliorer le résultat de 94% obtenu avec ce modèle. En effet les méthodes que nous avions trouvées pour l'améliorer faisaient toutes grimper le nombre de paramètres au-delà du million. Nous sommes parti du principe qu'un modèle avec moins de paramètres serait plus apte à classer des images ne faisant pas parti de l'entrainement. De plus nous avons aussi pu réduire le temps nécessaire à l'entrainement."
   ]
  },
  {
   "cell_type": "code",
   "execution_count": 17,
   "metadata": {},
   "outputs": [],
   "source": [
    "model = keras.Sequential(\n",
    "    [\n",
    "        keras.layers.InputLayer(input_shape=(28, 28)), # Résolution des images\n",
    "        keras.layers.Reshape((28, 28, 1)),\n",
    "        keras.layers.Conv2D(filters=32, kernel_size=(3, 3), activation='selu'),\n",
    "        keras.layers.MaxPooling2D(pool_size=(2, 2)),\n",
    "        keras.layers.Dropout(0.2),\n",
    "        \n",
    "        keras.layers.Conv2D(filters=64, kernel_size=(3, 3), activation='selu'),\n",
    "        keras.layers.MaxPooling2D(pool_size=(2, 2)),\n",
    "        keras.layers.Dropout(0.2),\n",
    "        \n",
    "        keras.layers.Flatten(),\n",
    "        keras.layers.Dense(126, activation='relu'),\n",
    "        keras.layers.Dropout(0.25),\n",
    "        \n",
    "        \n",
    "        keras.layers.Dense(5, activation='softmax')\n",
    "    ]\n",
    ")"
   ]
  },
  {
   "cell_type": "markdown",
   "metadata": {},
   "source": [
    "## Compilation du modèle\n",
    "\n",
    "### Optimizer\n",
    "Pour séléctionner la fonction d'optimisation, nous avons décidé de bloquer les autres paramètres de la simulation, et de conserver la fonction qui obtient les meilleurs résultats en 10 epochs.\n",
    "\n",
    "| Fonction | Validation accuracy (approx.) |\n",
    "| --- | --- |\n",
    "| SGD | 92% |\n",
    "| Adam | 94% |\n",
    "| Adagrad | 93% |\n",
    "| Ftrl | 89% |\n",
    "| RMSprop | 91% |\n",
    "| Adadelta | 61% |\n",
    "| Nadam | 92% |\n",
    "\n",
    "Nous avons donc décidé de converver le `Adam`."
   ]
  },
  {
   "cell_type": "code",
   "execution_count": 23,
   "metadata": {},
   "outputs": [
    {
     "name": "stdout",
     "output_type": "stream",
     "text": [
      "Model: \"sequential_3\"\n",
      "_________________________________________________________________\n",
      "Layer (type)                 Output Shape              Param #   \n",
      "=================================================================\n",
      "reshape_3 (Reshape)          (None, 28, 28, 1)         0         \n",
      "_________________________________________________________________\n",
      "conv2d_6 (Conv2D)            (None, 26, 26, 32)        320       \n",
      "_________________________________________________________________\n",
      "max_pooling2d_6 (MaxPooling2 (None, 13, 13, 32)        0         \n",
      "_________________________________________________________________\n",
      "dropout_9 (Dropout)          (None, 13, 13, 32)        0         \n",
      "_________________________________________________________________\n",
      "conv2d_7 (Conv2D)            (None, 11, 11, 64)        18496     \n",
      "_________________________________________________________________\n",
      "max_pooling2d_7 (MaxPooling2 (None, 5, 5, 64)          0         \n",
      "_________________________________________________________________\n",
      "dropout_10 (Dropout)         (None, 5, 5, 64)          0         \n",
      "_________________________________________________________________\n",
      "flatten_3 (Flatten)          (None, 1600)              0         \n",
      "_________________________________________________________________\n",
      "dense_6 (Dense)              (None, 126)               201726    \n",
      "_________________________________________________________________\n",
      "dropout_11 (Dropout)         (None, 126)               0         \n",
      "_________________________________________________________________\n",
      "dense_7 (Dense)              (None, 5)                 635       \n",
      "=================================================================\n",
      "Total params: 221,177\n",
      "Trainable params: 221,177\n",
      "Non-trainable params: 0\n",
      "_________________________________________________________________\n",
      "None\n"
     ]
    }
   ],
   "source": [
    "model.compile(optimizer='adam', loss=\"categorical_crossentropy\", metrics=['categorical_accuracy'])\n",
    "print(model.summary())"
   ]
  },
  {
   "cell_type": "markdown",
   "metadata": {},
   "source": [
    "## Répartition des données"
   ]
  },
  {
   "cell_type": "code",
   "execution_count": 24,
   "metadata": {},
   "outputs": [
    {
     "name": "stdout",
     "output_type": "stream",
     "text": [
      "Found 75000 non-validated image filenames belonging to 5 classes.\n",
      "Found 25000 non-validated image filenames belonging to 5 classes.\n"
     ]
    }
   ],
   "source": [
    "# Images utilisées pour l'entrainement\n",
    "train_images = trainImageGenerator.flow_from_dataframe(\n",
    "    dataframe=trainData, # Données provenant de pandas pour l'entrainement\n",
    "    directory=\"images\", # Dossier racine des images\n",
    "    x_col=\"relative_path\", # Chemin d'acces des images\n",
    "    y_col=\"class_label\", # Nom des classes \n",
    "    class_mode=\"categorical\", # Type de classification : \n",
    "    target_size=(28,28),\n",
    "    color_mode=\"grayscale\",\n",
    "    batch_size=100,\n",
    "    validate_filenames=False, # Pas de vérification des fichiers pour gagner du temps\n",
    "    shuffle=True, # En rendant aléatoire les données on augmente les chances d'avoir un lancement meilleur\n",
    "    horizontal_flip=True\n",
    ")\n",
    "\n",
    "# Images utilisées pour la validation\n",
    "validation_images = trainImageGenerator.flow_from_dataframe(\n",
    "    dataframe=validData, # Données provenant de pandas pour la validation\n",
    "    directory=\"images\",\n",
    "    x_col=\"relative_path\",\n",
    "    y_col=\"class_label\",\n",
    "    class_mode=\"categorical\",\n",
    "    target_size=(28,28),\n",
    "    color_mode=\"grayscale\",\n",
    "    batch_size=100,\n",
    "    validate_filenames=False # Pas de vérification des fichiers pour gagner du temps\n",
    ")"
   ]
  },
  {
   "cell_type": "markdown",
   "metadata": {},
   "source": [
    "## Entrainement du modèle\n",
    "\n",
    "Pour entraîner le modèle, nous utilisons les images provenant du fichier d'entrainement. Et nous utilisons celle de l'autre fichier pour faire la validation de la progression.\n",
    "\n",
    "Nous avons choisis de faire 30 epochs. Cette limite est bien supérieure à ce qui est nécessaire comme on le verra plus tard. "
   ]
  },
  {
   "cell_type": "code",
   "execution_count": 25,
   "metadata": {
    "scrolled": true
   },
   "outputs": [
    {
     "name": "stdout",
     "output_type": "stream",
     "text": [
      "Epoch 1/30\n",
      "WARNING:tensorflow:Model was constructed with shape (None, 28, 28) for input KerasTensor(type_spec=TensorSpec(shape=(None, 28, 28), dtype=tf.float32, name='input_4'), name='input_4', description=\"created by layer 'input_4'\"), but it was called on an input with incompatible shape (None, None, None, None).\n",
      "WARNING:tensorflow:Model was constructed with shape (None, 28, 28) for input KerasTensor(type_spec=TensorSpec(shape=(None, 28, 28), dtype=tf.float32, name='input_4'), name='input_4', description=\"created by layer 'input_4'\"), but it was called on an input with incompatible shape (None, None, None, None).\n",
      "748/750 [============================>.] - ETA: 0s - loss: 0.3347 - categorical_accuracy: 0.8918WARNING:tensorflow:Model was constructed with shape (None, 28, 28) for input KerasTensor(type_spec=TensorSpec(shape=(None, 28, 28), dtype=tf.float32, name='input_4'), name='input_4', description=\"created by layer 'input_4'\"), but it was called on an input with incompatible shape (None, None, None, None).\n",
      "750/750 [==============================] - 19s 24ms/step - loss: 0.3346 - categorical_accuracy: 0.8918 - val_loss: 0.2058 - val_categorical_accuracy: 0.9285\n",
      "Epoch 2/30\n",
      "750/750 [==============================] - 18s 24ms/step - loss: 0.2613 - categorical_accuracy: 0.9128 - val_loss: 0.1996 - val_categorical_accuracy: 0.9333\n",
      "Epoch 3/30\n",
      "750/750 [==============================] - 18s 24ms/step - loss: 0.2240 - categorical_accuracy: 0.9234 - val_loss: 0.1751 - val_categorical_accuracy: 0.9404\n",
      "Epoch 4/30\n",
      "750/750 [==============================] - 18s 24ms/step - loss: 0.2077 - categorical_accuracy: 0.9308 - val_loss: 0.1762 - val_categorical_accuracy: 0.9422\n",
      "Epoch 5/30\n",
      "750/750 [==============================] - 18s 24ms/step - loss: 0.1956 - categorical_accuracy: 0.9340 - val_loss: 0.1815 - val_categorical_accuracy: 0.9433\n",
      "Epoch 6/30\n",
      "750/750 [==============================] - 18s 24ms/step - loss: 0.1844 - categorical_accuracy: 0.9376 - val_loss: 0.1690 - val_categorical_accuracy: 0.9440\n",
      "Epoch 7/30\n",
      "750/750 [==============================] - 18s 24ms/step - loss: 0.1783 - categorical_accuracy: 0.9404 - val_loss: 0.1719 - val_categorical_accuracy: 0.9437\n",
      "Epoch 8/30\n",
      "750/750 [==============================] - 18s 24ms/step - loss: 0.1733 - categorical_accuracy: 0.9410 - val_loss: 0.1669 - val_categorical_accuracy: 0.9465\n",
      "Epoch 9/30\n",
      "750/750 [==============================] - 18s 24ms/step - loss: 0.1657 - categorical_accuracy: 0.9439 - val_loss: 0.1681 - val_categorical_accuracy: 0.9459\n",
      "Epoch 10/30\n",
      "750/750 [==============================] - 18s 24ms/step - loss: 0.1579 - categorical_accuracy: 0.9453 - val_loss: 0.1636 - val_categorical_accuracy: 0.9462\n",
      "Epoch 11/30\n",
      "750/750 [==============================] - 18s 24ms/step - loss: 0.1560 - categorical_accuracy: 0.9471 - val_loss: 0.1652 - val_categorical_accuracy: 0.9493\n",
      "Epoch 12/30\n",
      "750/750 [==============================] - 19s 25ms/step - loss: 0.1552 - categorical_accuracy: 0.9467 - val_loss: 0.1666 - val_categorical_accuracy: 0.9482\n",
      "Epoch 13/30\n",
      "750/750 [==============================] - 18s 24ms/step - loss: 0.1431 - categorical_accuracy: 0.9510 - val_loss: 0.1744 - val_categorical_accuracy: 0.9445\n",
      "Epoch 14/30\n",
      "750/750 [==============================] - 18s 24ms/step - loss: 0.1516 - categorical_accuracy: 0.9481 - val_loss: 0.1775 - val_categorical_accuracy: 0.9473\n",
      "Epoch 15/30\n",
      "750/750 [==============================] - 18s 24ms/step - loss: 0.1422 - categorical_accuracy: 0.9514 - val_loss: 0.1704 - val_categorical_accuracy: 0.9490\n",
      "Epoch 16/30\n",
      "750/750 [==============================] - 18s 24ms/step - loss: 0.1402 - categorical_accuracy: 0.9520 - val_loss: 0.1845 - val_categorical_accuracy: 0.9477\n",
      "Epoch 17/30\n",
      "750/750 [==============================] - 19s 25ms/step - loss: 0.1409 - categorical_accuracy: 0.9524 - val_loss: 0.1683 - val_categorical_accuracy: 0.9495\n",
      "Epoch 18/30\n",
      "750/750 [==============================] - 19s 25ms/step - loss: 0.1352 - categorical_accuracy: 0.9537 - val_loss: 0.1653 - val_categorical_accuracy: 0.9503\n",
      "Epoch 19/30\n",
      "750/750 [==============================] - 19s 25ms/step - loss: 0.1371 - categorical_accuracy: 0.9530 - val_loss: 0.1914 - val_categorical_accuracy: 0.9491\n",
      "Epoch 20/30\n",
      "750/750 [==============================] - 18s 24ms/step - loss: 0.1365 - categorical_accuracy: 0.9548 - val_loss: 0.1695 - val_categorical_accuracy: 0.9512\n",
      "Epoch 21/30\n",
      "750/750 [==============================] - 18s 25ms/step - loss: 0.1298 - categorical_accuracy: 0.9560 - val_loss: 0.1772 - val_categorical_accuracy: 0.9497\n",
      "Epoch 22/30\n",
      "750/750 [==============================] - 18s 24ms/step - loss: 0.1268 - categorical_accuracy: 0.9580 - val_loss: 0.1753 - val_categorical_accuracy: 0.9509\n",
      "Epoch 23/30\n",
      "750/750 [==============================] - 19s 25ms/step - loss: 0.1307 - categorical_accuracy: 0.9559 - val_loss: 0.1736 - val_categorical_accuracy: 0.9511\n",
      "Epoch 24/30\n",
      "750/750 [==============================] - 19s 25ms/step - loss: 0.1291 - categorical_accuracy: 0.9560 - val_loss: 0.1775 - val_categorical_accuracy: 0.9523\n",
      "Epoch 25/30\n",
      "750/750 [==============================] - 18s 24ms/step - loss: 0.1300 - categorical_accuracy: 0.9563 - val_loss: 0.1902 - val_categorical_accuracy: 0.9506\n",
      "Epoch 26/30\n",
      "750/750 [==============================] - 18s 24ms/step - loss: 0.1259 - categorical_accuracy: 0.9583 - val_loss: 0.1670 - val_categorical_accuracy: 0.9500\n",
      "Epoch 27/30\n",
      "750/750 [==============================] - 18s 24ms/step - loss: 0.1254 - categorical_accuracy: 0.9582 - val_loss: 0.1837 - val_categorical_accuracy: 0.9502\n",
      "Epoch 28/30\n",
      "750/750 [==============================] - 18s 24ms/step - loss: 0.1248 - categorical_accuracy: 0.9587 - val_loss: 0.1906 - val_categorical_accuracy: 0.9504\n",
      "Epoch 29/30\n",
      "750/750 [==============================] - 18s 24ms/step - loss: 0.1224 - categorical_accuracy: 0.9581 - val_loss: 0.1901 - val_categorical_accuracy: 0.9512\n",
      "Epoch 30/30\n",
      "750/750 [==============================] - 18s 24ms/step - loss: 0.1265 - categorical_accuracy: 0.9579 - val_loss: 0.1911 - val_categorical_accuracy: 0.9512\n"
     ]
    }
   ],
   "source": [
    "history = model.fit(train_images, validation_data=validation_images, epochs=30, verbose=1)"
   ]
  },
  {
   "cell_type": "markdown",
   "metadata": {},
   "source": [
    "## Affichage des résultats"
   ]
  },
  {
   "cell_type": "code",
   "execution_count": 26,
   "metadata": {},
   "outputs": [
    {
     "data": {
      "text/plain": [
       "<matplotlib.legend.Legend at 0x1fa7fe145b0>"
      ]
     },
     "execution_count": 26,
     "metadata": {},
     "output_type": "execute_result"
    },
    {
     "data": {
      "image/png": "[encoded data removed]",
      "text/plain": [
       "<Figure size 1080x216 with 2 Axes>"
      ]
     },
     "metadata": {
      "needs_background": "light"
     },
     "output_type": "display_data"
    }
   ],
   "source": [
    "fig, (ax1, ax2) = plt.subplots(1, 2, figsize=(15,3))\n",
    "fig.suptitle(\"Résultats de l'apprentissage\")\n",
    "ax1.plot(history.history['categorical_accuracy'])\n",
    "ax1.plot(history.history['val_categorical_accuracy'])\n",
    "ax1.legend(['categorical_accuracy', 'val_categorical_accuracy'])\n",
    "\n",
    "ax2.plot(history.history['loss'])\n",
    "ax2.plot(history.history['val_loss'])\n",
    "ax2.legend(['loss', 'val_loss'])"
   ]
  },
  {
   "cell_type": "markdown",
   "metadata": {},
   "source": [
    "# Sur-entrainement\n",
    "\n",
    "On remarque dans nos résultats que le modèle devient sur entrainé à partir d'une dizaine d'epoch. On décide donc de l'entrainer sur seulement 10 epochs, même si ses résultats semblent moins bon. "
   ]
  },
  {
   "cell_type": "code",
   "execution_count": 27,
   "metadata": {},
   "outputs": [
    {
     "name": "stdout",
     "output_type": "stream",
     "text": [
      "Epoch 1/10\n",
      "WARNING:tensorflow:Model was constructed with shape (None, 28, 28) for input KerasTensor(type_spec=TensorSpec(shape=(None, 28, 28), dtype=tf.float32, name='input_5'), name='input_5', description=\"created by layer 'input_5'\"), but it was called on an input with incompatible shape (None, None, None, None).\n",
      "WARNING:tensorflow:Model was constructed with shape (None, 28, 28) for input KerasTensor(type_spec=TensorSpec(shape=(None, 28, 28), dtype=tf.float32, name='input_5'), name='input_5', description=\"created by layer 'input_5'\"), but it was called on an input with incompatible shape (None, None, None, None).\n",
      "750/750 [==============================] - ETA: 0s - loss: 4.3776 - categorical_accuracy: 0.6147WARNING:tensorflow:Model was constructed with shape (None, 28, 28) for input KerasTensor(type_spec=TensorSpec(shape=(None, 28, 28), dtype=tf.float32, name='input_5'), name='input_5', description=\"created by layer 'input_5'\"), but it was called on an input with incompatible shape (None, None, None, None).\n",
      "750/750 [==============================] - 19s 25ms/step - loss: 4.3736 - categorical_accuracy: 0.6149 - val_loss: 0.3513 - val_categorical_accuracy: 0.8898\n",
      "Epoch 2/10\n",
      "750/750 [==============================] - 18s 24ms/step - loss: 0.4167 - categorical_accuracy: 0.8632 - val_loss: 0.2526 - val_categorical_accuracy: 0.9169\n",
      "Epoch 3/10\n",
      "750/750 [==============================] - 18s 24ms/step - loss: 0.3270 - categorical_accuracy: 0.8910 - val_loss: 0.2175 - val_categorical_accuracy: 0.9257\n",
      "Epoch 4/10\n",
      "750/750 [==============================] - 18s 24ms/step - loss: 0.2760 - categorical_accuracy: 0.9083 - val_loss: 0.1955 - val_categorical_accuracy: 0.9327\n",
      "Epoch 5/10\n",
      "750/750 [==============================] - 18s 24ms/step - loss: 0.2461 - categorical_accuracy: 0.9177 - val_loss: 0.1900 - val_categorical_accuracy: 0.9361\n",
      "Epoch 6/10\n",
      "750/750 [==============================] - 18s 24ms/step - loss: 0.2239 - categorical_accuracy: 0.9252 - val_loss: 0.1872 - val_categorical_accuracy: 0.9386\n",
      "Epoch 7/10\n",
      "750/750 [==============================] - 18s 24ms/step - loss: 0.2087 - categorical_accuracy: 0.9301 - val_loss: 0.1698 - val_categorical_accuracy: 0.9426\n",
      "Epoch 8/10\n",
      "750/750 [==============================] - 18s 24ms/step - loss: 0.1968 - categorical_accuracy: 0.9335 - val_loss: 0.1778 - val_categorical_accuracy: 0.9408\n",
      "Epoch 9/10\n",
      "750/750 [==============================] - 18s 24ms/step - loss: 0.1886 - categorical_accuracy: 0.9366 - val_loss: 0.1778 - val_categorical_accuracy: 0.9445\n",
      "Epoch 10/10\n",
      "750/750 [==============================] - 18s 24ms/step - loss: 0.1830 - categorical_accuracy: 0.9372 - val_loss: 0.1653 - val_categorical_accuracy: 0.9457\n"
     ]
    }
   ],
   "source": [
    "model = keras.Sequential(\n",
    "    [\n",
    "        keras.layers.InputLayer(input_shape=(28, 28)), # Résolution des images\n",
    "        keras.layers.Reshape((28, 28, 1)),\n",
    "        keras.layers.Conv2D(filters=32, kernel_size=(3, 3), activation='selu'),\n",
    "        keras.layers.MaxPooling2D(pool_size=(2, 2)),\n",
    "        keras.layers.Dropout(0.2),\n",
    "        \n",
    "        keras.layers.Conv2D(filters=64, kernel_size=(3, 3), activation='selu'),\n",
    "        keras.layers.MaxPooling2D(pool_size=(2, 2)),\n",
    "        keras.layers.Dropout(0.2),\n",
    "        \n",
    "        keras.layers.Flatten(),\n",
    "        keras.layers.Dense(126, activation='relu'),\n",
    "        keras.layers.Dropout(0.25),\n",
    "        \n",
    "        \n",
    "        keras.layers.Dense(5, activation='softmax')\n",
    "    ]\n",
    ")\n",
    "\n",
    "model.compile(optimizer='adam', loss=\"categorical_crossentropy\", metrics=['categorical_accuracy'])\n",
    "history = model.fit(train_images, validation_data=validation_images, epochs=10)"
   ]
  },
  {
   "cell_type": "markdown",
   "metadata": {},
   "source": [
    "## Exemple de classification par le modèle\n",
    "\n",
    "Pour afficher quelques exemples nous allons réutiliser les données utilisées lors de la validation. On demande au modèle de prédire la classe des images, puis on extrait une partie de ces résultats. Enfin on affiche le résultat après l'avoir convertie en texte plus explicite."
   ]
  },
  {
   "cell_type": "code",
   "execution_count": 28,
   "metadata": {},
   "outputs": [
    {
     "data": {
      "image/png": "[encoded data removed]",
      "text/plain": [
       "<Figure size 1296x648 with 5 Axes>"
      ]
     },
     "metadata": {
      "needs_background": "light"
     },
     "output_type": "display_data"
    }
   ],
   "source": [
    "classes = [\"basket\", \"eye\", \"binoculars\", \"rabbit\", \"hand\"]\n",
    "\n",
    "def load(filename):\n",
    "    np_image = Image.open(filename)\n",
    "    np_image = image.img_to_array(np_image)\n",
    "    np_image = np.expand_dims(np_image, axis = 0)\n",
    "    return np_image\n",
    "\n",
    "plt.figure(figsize=(18,9))\n",
    "for i in range(0,5):\n",
    "    ax= plt.subplot(1, 5 ,i+1)\n",
    "    im = Image.open('images/'+classes[i]+'/'+ os.listdir(\"images/\"+classes[i])[0])\n",
    "    fig=ax.imshow(im, cmap='Greys_r')\n",
    "    prediction = model.predict(load('images/'+classes[i]+'/'+ os.listdir(\"images/\"+classes[i])[0]))\n",
    "    prediction = np.argmax(prediction, axis = 1)[0]\n",
    "    plt.title(classes[prediction])\n",
    "    fig.axes.get_xaxis().set_visible(False)\n",
    "    fig.axes.get_yaxis().set_visible(False)\n",
    "plt.show()    "
   ]
  },
  {
   "cell_type": "markdown",
   "metadata": {},
   "source": [
    "## Sauvegarde du modèle\n",
    "\n",
    "On utilise le format **HDF5** pour stocker le modèle, ce format est pratique car il permet de stocker l'architecture du modèle, les poids ainsi que les informations de compilation du modèle."
   ]
  },
  {
   "cell_type": "code",
   "execution_count": 21,
   "metadata": {},
   "outputs": [],
   "source": [
    "model.save(\"pouly_zangla_classifier.h5\")"
   ]
  },
  {
   "cell_type": "code",
   "execution_count": null,
   "metadata": {},
   "outputs": [],
   "source": []
  }
 ],
 "metadata": {
  "kernelspec": {
   "display_name": "Python 3",
   "language": "python",
   "name": "python3"
  },
  "language_info": {
   "codemirror_mode": {
    "name": "ipython",
    "version": 3
   },
   "file_extension": ".py",
   "mimetype": "text/x-python",
   "name": "python",
   "nbconvert_exporter": "python",
   "pygments_lexer": "ipython3",
   "version": "3.8.3"
  }
 },
 "nbformat": 4,
 "nbformat_minor": 4
}
