{
 "cells": [
  {
   "cell_type": "markdown",
   "metadata": {},
   "source": [
    "# Challenge Deep Learning"
   ]
  },
  {
   "cell_type": "markdown",
   "metadata": {},
   "source": [
    "L'objectif de ce challenge est de proposer une méthode de classification, basée sur des réseaux de neurones, permettant de classer des images issues de Google Quickdraw (https://quickdraw.withgoogle.com/data).\n",
    "Le jeu de données proposé comprend 5 classes balancées, avec 15000 exemples d'apprentissage et 5000 exemples de validation : des paniers, des yeux, des lunettes, des lapins et des mains.\n",
    "\n",
    "Vous pouvez utiliser tout algorithme qui vous semble pertinent (PMC, CNN,), en faisant varier les données d'entrée (normalisation, augmentation de données,...), les paramètres des réseaux considérés (fonction objectif, optimiseur, dropout, learning rate, taille des batchs...)\n",
    "\n",
    "Bien sûr, pour valider votre travail, nous ferons tourner le code en local, sur la base originale que nous conservons, pour voir si les résultats que vous proposez sont reproductibles. \n",
    "\n",
    "Le compte-rendu sera effectué sur un notebook jupyter, dans lequel vous reporterez votre méthodologie en markdown, et vos codes en Python. Vous expliquerez votre démarche, justifierez vos choix, commenterez vos expérimentations et vos résultats.\n",
    "\n",
    "La notation sera construite de la manière suivante : \n",
    "- 12 points sur le compte-rendu\n",
    "- 8 points seront accordés sur un classement par le taux de reconnsaissance des objets de la base de test. Les binômes seront classés par taux de reconnaissance décroissant, les premiers ayant 8 points accordés, les autres binômes ayant une note suivant une décroissance linéaire.\n",
    "\n",
    "Le notebook sera déposé sur la plateforme moodle du cours."
   ]
  },
  {
   "cell_type": "markdown",
   "metadata": {},
   "source": [
    "## Imports"
   ]
  },
  {
   "cell_type": "code",
   "execution_count": 1,
   "metadata": {},
   "outputs": [],
   "source": [
    "import tensorflow\n",
    "import pandas as pd\n",
    "import numpy as np\n",
    "import time\n",
    "import os\n",
    "from PIL import Image\n",
    "import glob\n",
    "from tensorflow import keras\n",
    "from tensorflow.keras.preprocessing.image import ImageDataGenerator\n",
    "import matplotlib.pyplot as plt\n",
    "%matplotlib inline\n",
    "\n",
    "#print(tensorflow.version.VERSION)\n",
    "# Ajouter les imports nécessaires"
   ]
  },
  {
   "cell_type": "markdown",
   "metadata": {},
   "source": [
    "## Données"
   ]
  },
  {
   "cell_type": "code",
   "execution_count": 2,
   "metadata": {},
   "outputs": [],
   "source": [
    "classes = [\"basket\",\"eye\",\"binoculars\",\"rabbit\",\"hand\"]\n",
    "train = pd.read_csv('train.csv')\n",
    "valid = pd.read_csv('valid.csv')"
   ]
  },
  {
   "cell_type": "code",
   "execution_count": 3,
   "metadata": {},
   "outputs": [
    {
     "data": {
      "image/png": "[encoded data removed]",
      "text/plain": [
       "<Figure size 1296x648 with 5 Axes>"
      ]
     },
     "metadata": {
      "needs_background": "light"
     },
     "output_type": "display_data"
    }
   ],
   "source": [
    "plt.figure(figsize=(18,9))\n",
    "for i in range(0,5):\n",
    "    ax= plt.subplot(3,2 ,i+1)\n",
    "    mydata = pd.read_csv(\"train.csv\", skiprows = [1], nrows=1)\n",
    "    im = Image.open('images/'+classes[i]+'/'+ os.listdir(\"images/\"+classes[i])[0])\n",
    "    fig=ax.imshow(im)\n",
    "    plt.title(classes[i])\n",
    "    fig.axes.get_xaxis().set_visible(False)\n",
    "    fig.axes.get_yaxis().set_visible(False)\n",
    "plt.show()    \n"
   ]
  },
  {
   "cell_type": "markdown",
   "metadata": {},
   "source": [
    "## Chargement des données pour l'entraînement\n",
    "\n",
    "On utilise le module `pandas`, il facilite grandement le chargement de fichier CSV, en les lisant sous-forme de matrices appelées **Dataframes**.\n",
    "\n",
    "L'utilisation du paramètre `dtype` est obligatoire pour indiquer à `pandas` de charger le contenu des cases sous la forme de chaînes de caractères. Cela évite une transformation pour obtenir les étiquettes des classes qui doit obligatoirement être de ce type là."
   ]
  },
  {
   "cell_type": "code",
   "execution_count": 29,
   "metadata": {},
   "outputs": [
    {
     "name": "stdout",
     "output_type": "stream",
     "text": [
      "              image_name             relative_path class_label\n",
      "0      basket_052681.png  basket/basket_052681.png           0\n",
      "1      basket_028248.png  basket/basket_028248.png           0\n",
      "2      basket_050738.png  basket/basket_050738.png           0\n",
      "3      basket_034414.png  basket/basket_034414.png           0\n",
      "4      basket_091738.png  basket/basket_091738.png           0\n",
      "...                  ...                       ...         ...\n",
      "74995    hand_241467.png      hand/hand_241467.png           4\n",
      "74996    hand_052619.png      hand/hand_052619.png           4\n",
      "74997    hand_168727.png      hand/hand_168727.png           4\n",
      "74998    hand_285523.png      hand/hand_285523.png           4\n",
      "74999    hand_263562.png      hand/hand_263562.png           4\n",
      "\n",
      "[75000 rows x 3 columns]\n"
     ]
    }
   ],
   "source": [
    "datas = pd.read_csv(\"train.csv\", dtype=\"str\")\n",
    "print(datas)"
   ]
  },
  {
   "cell_type": "markdown",
   "metadata": {},
   "source": [
    "## Génération de données\n",
    "\n",
    "Nous utilisons l'outil de génération de données `ImageDataGenerator`pour faciliter la manipulation du Dataframe.\n",
    "Grâce à l'option `validation_split`, nous conservons **20%** des données d'entraînement pour les utiliser lors de la validation du modèle."
   ]
  },
  {
   "cell_type": "code",
   "execution_count": null,
   "metadata": {},
   "outputs": [],
   "source": [
    "# 20% des données sont utilisées pour la validation\n",
    "trainImageGenerator = ImageDataGenerator(\n",
    "    validation_split=0.2\n",
    ")"
   ]
  },
  {
   "cell_type": "markdown",
   "metadata": {},
   "source": [
    "## Désordonner le Dataframe\n",
    "\n",
    "L'`ImageDataGenerator` étant utilisé pour séparer les données d'entraînement des données de validation, nous sommmes obligés de manuellement réordonner le Dataframe. Si nous ne le faisions pas, seules la fin du Dataframe serait utilisée pour la validation. Dans le cas du 20% de données de validation, cela signifie que les images de la catégorie *hand* serait utilisée pour valider les résultats d'un modèle entrainait uniquement sur les catégories : *eye*, *basket*, *binoculars* et *rabbit*."
   ]
  },
  {
   "cell_type": "code",
   "execution_count": 31,
   "metadata": {},
   "outputs": [],
   "source": [
    "datas = datas.sample(frac=1).reset_index(drop=True)"
   ]
  },
  {
   "cell_type": "markdown",
   "metadata": {},
   "source": [
    "## Modèle\n",
    "\n"
   ]
  },
  {
   "cell_type": "code",
   "execution_count": 21,
   "metadata": {},
   "outputs": [
    {
     "name": "stdout",
     "output_type": "stream",
     "text": [
      "Model: \"sequential_2\"\n",
      "_________________________________________________________________\n",
      "Layer (type)                 Output Shape              Param #   \n",
      "=================================================================\n",
      "reshape_2 (Reshape)          (None, 28, 28, 1)         0         \n",
      "_________________________________________________________________\n",
      "conv2d_4 (Conv2D)            (None, 26, 26, 32)        320       \n",
      "_________________________________________________________________\n",
      "conv2d_5 (Conv2D)            (None, 24, 24, 64)        18496     \n",
      "_________________________________________________________________\n",
      "max_pooling2d_2 (MaxPooling2 (None, 12, 12, 64)        0         \n",
      "_________________________________________________________________\n",
      "dropout_2 (Dropout)          (None, 12, 12, 64)        0         \n",
      "_________________________________________________________________\n",
      "flatten_2 (Flatten)          (None, 9216)              0         \n",
      "_________________________________________________________________\n",
      "dense_2 (Dense)              (None, 5)                 46085     \n",
      "=================================================================\n",
      "Total params: 64,901\n",
      "Trainable params: 64,901\n",
      "Non-trainable params: 0\n",
      "_________________________________________________________________\n",
      "None\n"
     ]
    }
   ],
   "source": [
    "model = keras.Sequential(\n",
    "    [\n",
    "        keras.layers.InputLayer(input_shape=(28, 28)), # Résolution des images\n",
    "        keras.layers.Reshape((28, 28, 1)),\n",
    "        keras.layers.Conv2D(filters=32, kernel_size=(3, 3), activation='relu'),\n",
    "        keras.layers.Conv2D(filters=64, kernel_size=(3, 3), activation='relu'),\n",
    "        keras.layers.MaxPooling2D(pool_size=(2, 2)),\n",
    "        keras.layers.Dropout(0.25),\n",
    "        keras.layers.Flatten(),\n",
    "        keras.layers.Dense(5, activation='softmax')\n",
    "    ]\n",
    ")"
   ]
  },
  {
   "cell_type": "markdown",
   "metadata": {},
   "source": [
    "## Compilation du modèle\n",
    "\n",
    "### Optimizer\n",
    "### Loss\n",
    "### Metrics"
   ]
  },
  {
   "cell_type": "code",
   "execution_count": null,
   "metadata": {},
   "outputs": [],
   "source": [
    "model.compile(optimizer='adam', loss=\"categorical_crossentropy\", metrics=['categorical_accuracy'])\n",
    "print(model.summary())"
   ]
  },
  {
   "cell_type": "markdown",
   "metadata": {},
   "source": [
    "## Répartition des données"
   ]
  },
  {
   "cell_type": "code",
   "execution_count": 25,
   "metadata": {},
   "outputs": [
    {
     "name": "stdout",
     "output_type": "stream",
     "text": [
      "Found 60000 non-validated image filenames belonging to 5 classes.\n",
      "Found 15000 non-validated image filenames belonging to 5 classes.\n",
      "Epoch 1/5\n",
      " 2/60 [>.............................] - ETA: 1s - loss: 0.2208 - categorical_accuracy: 0.9330WARNING:tensorflow:Callbacks method `on_train_batch_end` is slow compared to the batch time (batch time: 0.0240s vs `on_train_batch_end` time: 0.0400s). Check your callbacks.\n",
      "60/60 [==============================] - 13s 213ms/step - loss: 0.2111 - categorical_accuracy: 0.9335 - val_loss: 0.1662 - val_categorical_accuracy: 0.9486\n",
      "Epoch 2/5\n",
      "60/60 [==============================] - 13s 212ms/step - loss: 0.1917 - categorical_accuracy: 0.9390 - val_loss: 0.1648 - val_categorical_accuracy: 0.9489\n",
      "Epoch 3/5\n",
      "60/60 [==============================] - 14s 239ms/step - loss: 0.1816 - categorical_accuracy: 0.9421 - val_loss: 0.1665 - val_categorical_accuracy: 0.9491\n",
      "Epoch 4/5\n",
      "60/60 [==============================] - 14s 239ms/step - loss: 0.1780 - categorical_accuracy: 0.9437 - val_loss: 0.1672 - val_categorical_accuracy: 0.9480\n",
      "Epoch 5/5\n",
      "60/60 [==============================] - 14s 232ms/step - loss: 0.1709 - categorical_accuracy: 0.9444 - val_loss: 0.1678 - val_categorical_accuracy: 0.9482\n"
     ]
    }
   ],
   "source": [
    "# Images utilisées pour l'entrainement\n",
    "train_images = trainImageGenerator.flow_from_dataframe(\n",
    "    dataframe=datas, # Données provenant de pandas\n",
    "    directory=\"images\", # Dossier racine des images\n",
    "    x_col=\"relative_path\", # Chemin d'acces des images\n",
    "    y_col=\"class_label\", # Nom des classes \n",
    "    class_mode=\"categorical\", # Type de classification : \n",
    "    target_size=(28,28),\n",
    "    color_mode=\"grayscale\",\n",
    "    subset=\"training\",\n",
    "    batch_size=1000,\n",
    "    validate_filenames=False\n",
    ")\n",
    "\n",
    "# Images utilisées pour la validation\n",
    "validation_images = trainImageGenerator.flow_from_dataframe(\n",
    "    dataframe=datas, \n",
    "    directory=\"images\",\n",
    "    x_col=\"relative_path\",\n",
    "    y_col=\"class_label\",\n",
    "    class_mode=\"categorical\",\n",
    "    target_size=(28,28),\n",
    "    color_mode=\"grayscale\",\n",
    "    subset=\"validation\",\n",
    "    batch_size=1000,\n",
    "    validate_filenames=False\n",
    ")"
   ]
  },
  {
   "cell_type": "markdown",
   "metadata": {},
   "source": [
    "## Entrainement du modèle\n",
    "\n",
    "### Données à utiliser\n",
    "### Nombre d'epochs"
   ]
  },
  {
   "cell_type": "code",
   "execution_count": null,
   "metadata": {},
   "outputs": [],
   "source": [
    "history = model.fit(train_images, validation_data=validation_images, epochs=5, verbose=1)"
   ]
  },
  {
   "cell_type": "markdown",
   "metadata": {},
   "source": [
    "## Affichage des résultats"
   ]
  },
  {
   "cell_type": "code",
   "execution_count": 40,
   "metadata": {},
   "outputs": [
    {
     "data": {
      "text/plain": [
       "<function matplotlib.pyplot.show(close=None, block=None)>"
      ]
     },
     "execution_count": 40,
     "metadata": {},
     "output_type": "execute_result"
    },
    {
     "data": {
      "image/png": "[encoded data removed]",
      "text/plain": [
       "<Figure size 1080x216 with 2 Axes>"
      ]
     },
     "metadata": {
      "needs_background": "light"
     },
     "output_type": "display_data"
    }
   ],
   "source": [
    "fig, (ax1, ax2) = plt.subplots(1, 2, figsize=(15,3))\n",
    "fig.suptitle(\"Résultats de l'apprentissage\")\n",
    "ax1.plot(history.history['categorical_accuracy'])\n",
    "ax1.plot(history.history['val_categorical_accuracy'])\n",
    "ax1.legend(['categorical_accuracy', 'val_categorical_accuracy'])\n",
    "\n",
    "ax2.plot(history.history['loss'])\n",
    "ax2.plot(history.history['val_loss'])\n",
    "ax2.legend(['loss', 'val_loss'])\n",
    "plt.show\n"
   ]
  },
  {
   "cell_type": "markdown",
   "metadata": {},
   "source": [
    "## Exemple de classification par le modèle"
   ]
  },
  {
   "cell_type": "code",
   "execution_count": null,
   "metadata": {},
   "outputs": [],
   "source": [
    "# TODO: Coder l'exemple"
   ]
  },
  {
   "cell_type": "markdown",
   "metadata": {},
   "source": [
    "## Sauvegarde du modèle"
   ]
  },
  {
   "cell_type": "code",
   "execution_count": 41,
   "metadata": {},
   "outputs": [],
   "source": [
    "# TODO: Enregistrer le modèle au format H5"
   ]
  }
 ],
 "metadata": {
  "kernelspec": {
   "display_name": "Python 3",
   "language": "python",
   "name": "python3"
  },
  "language_info": {
   "codemirror_mode": {
    "name": "ipython",
    "version": 3
   },
   "file_extension": ".py",
   "mimetype": "text/x-python",
   "name": "python",
   "nbconvert_exporter": "python",
   "pygments_lexer": "ipython3",
   "version": "3.8.3"
  }
 },
 "nbformat": 4,
 "nbformat_minor": 4
}
